{
 "cells": [
  {
   "cell_type": "markdown",
   "metadata": {},
   "source": [
    "## Tennis Time\n",
    "\n",
    "- Game is becoming longer and longer (don't have cross year data)\n",
    "- ~~Game length per player~~\n",
    "- ~~Some Game Moment are longer than the other (i.e. deuce?)~~\n",
    "- Game length per years (Don't have data)\n",
    "\n",
    "\n",
    "- start time: 09:40; 50mins\n",
    "\n",
    "- the original fivethirtyeight [piece](http://fivethirtyeight.com/features/why-some-tennis-matches-take-forever/) has some interesting line chart\n",
    "- TODO: make a table display\n",
    "- Apart from top/bottom, it's also a good idea to have some 'hightlight'"
   ]
  },
  {
   "cell_type": "code",
   "execution_count": 2,
   "metadata": {
    "collapsed": false
   },
   "outputs": [
    {
     "data": {
      "text/html": [
       "<table><th>'color'</th><tr><td>'#30a2da'</td></tr><tr><td>'#fc4f30'</td></tr><tr><td>'#e5ae38'</td></tr><tr><td>'#6d904f'</td></tr><tr><td>'#8b8b8b'</td></tr></table>"
      ],
      "text/plain": [
       "cycler('color', ['#30a2da', '#fc4f30', '#e5ae38', '#6d904f', '#8b8b8b'])"
      ]
     },
     "execution_count": 2,
     "metadata": {},
     "output_type": "execute_result"
    }
   ],
   "source": [
    "import numpy as np\n",
    "import pandas as pd\n",
    "import matplotlib as matplotlib\n",
    "import matplotlib.pyplot as plt\n",
    "import seaborn as sns\n",
    "\n",
    "%matplotlib inline\n",
    "plt.style.use('fivethirtyeight')\n",
    "plt.style.library['fivethirtyeight']['axes.prop_cycle']\n",
    "\n"
   ]
  },
  {
   "cell_type": "code",
   "execution_count": 7,
   "metadata": {
    "collapsed": true
   },
   "outputs": [],
   "source": [
    "from IPython.core.display import display, HTML\n",
    "from string import Template\n",
    "import json\n"
   ]
  },
  {
   "cell_type": "code",
   "execution_count": 79,
   "metadata": {
    "collapsed": true
   },
   "outputs": [],
   "source": [
    "\n",
    "def head_tail_bar (data):\n",
    "    absmax = max(list(map(abs, [data['x'].max(), data['x'].min()])))\n",
    "    plt.xlim(-absmax, absmax)\n",
    "    g = sns.barplot(data=data.head(n=10), orient='h', x='x', y='y', color='#30a2da')\n",
    "    plt.axvline(data['x'].mean(), color='#fc4f30',linestyle='dashed', linewidth=2)\n",
    "    g.set_title(\"Top 10 \\n (red is average)\")\n",
    "    plt.show()\n",
    "    \n",
    "    plt.xlim(-absmax, absmax)\n",
    "    g = sns.barplot(data=data.tail(n=10), orient='h', x='x', y='y', color='#30a2da')\n",
    "    plt.axvline(data['x'].mean(), color='#fc4f30',linestyle='dashed', linewidth=2)\n",
    "    g.set_title(\"Bottom 10 \\n (red is average)\")\n",
    "    plt.show()\n"
   ]
  },
  {
   "cell_type": "code",
   "execution_count": 77,
   "metadata": {
    "collapsed": false
   },
   "outputs": [
    {
     "data": {
      "text/html": [
       "<div>\n",
       "<table border=\"1\" class=\"dataframe\">\n",
       "  <thead>\n",
       "    <tr style=\"text-align: right;\">\n",
       "      <th></th>\n",
       "      <th>player</th>\n",
       "      <th>seconds_added_per_point</th>\n",
       "    </tr>\n",
       "  </thead>\n",
       "  <tbody>\n",
       "    <tr>\n",
       "      <th>0</th>\n",
       "      <td>Dustin Brown</td>\n",
       "      <td>-6.37</td>\n",
       "    </tr>\n",
       "    <tr>\n",
       "      <th>1</th>\n",
       "      <td>Rohan Bopanna</td>\n",
       "      <td>-4.95</td>\n",
       "    </tr>\n",
       "    <tr>\n",
       "      <th>2</th>\n",
       "      <td>Chris Guccione</td>\n",
       "      <td>-4.63</td>\n",
       "    </tr>\n",
       "    <tr>\n",
       "      <th>3</th>\n",
       "      <td>Benoit Paire</td>\n",
       "      <td>-4.56</td>\n",
       "    </tr>\n",
       "    <tr>\n",
       "      <th>4</th>\n",
       "      <td>Lukas Dlouhy</td>\n",
       "      <td>-4.35</td>\n",
       "    </tr>\n",
       "  </tbody>\n",
       "</table>\n",
       "</div>"
      ],
      "text/plain": [
       "           player  seconds_added_per_point\n",
       "0    Dustin Brown                    -6.37\n",
       "1   Rohan Bopanna                    -4.95\n",
       "2  Chris Guccione                    -4.63\n",
       "3    Benoit Paire                    -4.56\n",
       "4    Lukas Dlouhy                    -4.35"
      ]
     },
     "execution_count": 77,
     "metadata": {},
     "output_type": "execute_result"
    }
   ],
   "source": [
    "players = pd.read_csv(\"./data/data/tennis-time/players_time.csv\")\n",
    "players.head()"
   ]
  },
  {
   "cell_type": "code",
   "execution_count": 80,
   "metadata": {
    "collapsed": false
   },
   "outputs": [
    {
     "data": {
      "image/png": "[encoded data removed]",
      "text/plain": [
       "<matplotlib.figure.Figure at 0x118c34278>"
      ]
     },
     "metadata": {},
     "output_type": "display_data"
    },
    {
     "data": {
      "image/png": "[encoded data removed]",
      "text/plain": [
       "<matplotlib.figure.Figure at 0x1199b36a0>"
      ]
     },
     "metadata": {},
     "output_type": "display_data"
    }
   ],
   "source": [
    "tmp_players = players.copy()\n",
    "tmp_players.columns = ['y', 'x']\n",
    "head_tail_bar(tmp_players)"
   ]
  },
  {
   "cell_type": "code",
   "execution_count": 91,
   "metadata": {
    "collapsed": false
   },
   "outputs": [
    {
     "data": {
      "text/html": [
       "<div>\n",
       "<table border=\"1\" class=\"dataframe\">\n",
       "  <thead>\n",
       "    <tr style=\"text-align: right;\">\n",
       "      <th></th>\n",
       "      <th>server</th>\n",
       "      <th>seconds_before_next_point</th>\n",
       "      <th>day</th>\n",
       "      <th>opponent</th>\n",
       "      <th>game_score</th>\n",
       "      <th>set</th>\n",
       "      <th>game</th>\n",
       "    </tr>\n",
       "  </thead>\n",
       "  <tbody>\n",
       "    <tr>\n",
       "      <th>0</th>\n",
       "      <td>Nicolas Almagro</td>\n",
       "      <td>22</td>\n",
       "      <td>28-May-15</td>\n",
       "      <td>Rafael Nadal</td>\n",
       "      <td>15-30</td>\n",
       "      <td>1</td>\n",
       "      <td>0-0</td>\n",
       "    </tr>\n",
       "    <tr>\n",
       "      <th>1</th>\n",
       "      <td>Nicolas Almagro</td>\n",
       "      <td>19</td>\n",
       "      <td>28-May-15</td>\n",
       "      <td>Rafael Nadal</td>\n",
       "      <td>15-40</td>\n",
       "      <td>1</td>\n",
       "      <td>0-0</td>\n",
       "    </tr>\n",
       "    <tr>\n",
       "      <th>2</th>\n",
       "      <td>Nicolas Almagro</td>\n",
       "      <td>23</td>\n",
       "      <td>28-May-15</td>\n",
       "      <td>Rafael Nadal</td>\n",
       "      <td>30-40</td>\n",
       "      <td>1</td>\n",
       "      <td>0-0</td>\n",
       "    </tr>\n",
       "    <tr>\n",
       "      <th>3</th>\n",
       "      <td>Nicolas Almagro</td>\n",
       "      <td>24</td>\n",
       "      <td>28-May-15</td>\n",
       "      <td>Rafael Nadal</td>\n",
       "      <td>Deuce</td>\n",
       "      <td>1</td>\n",
       "      <td>0-0</td>\n",
       "    </tr>\n",
       "    <tr>\n",
       "      <th>4</th>\n",
       "      <td>Nicolas Almagro</td>\n",
       "      <td>19</td>\n",
       "      <td>28-May-15</td>\n",
       "      <td>Rafael Nadal</td>\n",
       "      <td>Ad-in</td>\n",
       "      <td>1</td>\n",
       "      <td>0-0</td>\n",
       "    </tr>\n",
       "    <tr>\n",
       "      <th>5</th>\n",
       "      <td>Pablo Andujar</td>\n",
       "      <td>34</td>\n",
       "      <td>28-May-15</td>\n",
       "      <td>Philipp Kohlschreiber</td>\n",
       "      <td>40-30</td>\n",
       "      <td>5</td>\n",
       "      <td>2-4</td>\n",
       "    </tr>\n",
       "    <tr>\n",
       "      <th>6</th>\n",
       "      <td>Bernard Tomic</td>\n",
       "      <td>21</td>\n",
       "      <td>28-May-15</td>\n",
       "      <td>Thanasi Kokkinakis</td>\n",
       "      <td>30-40</td>\n",
       "      <td>3</td>\n",
       "      <td>0-1</td>\n",
       "    </tr>\n",
       "    <tr>\n",
       "      <th>7</th>\n",
       "      <td>Bernard Tomic</td>\n",
       "      <td>17</td>\n",
       "      <td>28-May-15</td>\n",
       "      <td>Thanasi Kokkinakis</td>\n",
       "      <td>Deuce</td>\n",
       "      <td>3</td>\n",
       "      <td>0-1</td>\n",
       "    </tr>\n",
       "    <tr>\n",
       "      <th>8</th>\n",
       "      <td>Bernard Tomic</td>\n",
       "      <td>17</td>\n",
       "      <td>28-May-15</td>\n",
       "      <td>Thanasi Kokkinakis</td>\n",
       "      <td>Ad-in</td>\n",
       "      <td>3</td>\n",
       "      <td>0-1</td>\n",
       "    </tr>\n",
       "    <tr>\n",
       "      <th>9</th>\n",
       "      <td>Rafael Nadal</td>\n",
       "      <td>34</td>\n",
       "      <td>28-May-15</td>\n",
       "      <td>Nicolas Almagro</td>\n",
       "      <td>15-30</td>\n",
       "      <td>1</td>\n",
       "      <td>0-1</td>\n",
       "    </tr>\n",
       "  </tbody>\n",
       "</table>\n",
       "</div>"
      ],
      "text/plain": [
       "            server  seconds_before_next_point        day  \\\n",
       "0  Nicolas Almagro                         22  28-May-15   \n",
       "1  Nicolas Almagro                         19  28-May-15   \n",
       "2  Nicolas Almagro                         23  28-May-15   \n",
       "3  Nicolas Almagro                         24  28-May-15   \n",
       "4  Nicolas Almagro                         19  28-May-15   \n",
       "5    Pablo Andujar                         34  28-May-15   \n",
       "6    Bernard Tomic                         21  28-May-15   \n",
       "7    Bernard Tomic                         17  28-May-15   \n",
       "8    Bernard Tomic                         17  28-May-15   \n",
       "9     Rafael Nadal                         34  28-May-15   \n",
       "\n",
       "                opponent game_score  set game  \n",
       "0           Rafael Nadal      15-30    1  0-0  \n",
       "1           Rafael Nadal      15-40    1  0-0  \n",
       "2           Rafael Nadal      30-40    1  0-0  \n",
       "3           Rafael Nadal      Deuce    1  0-0  \n",
       "4           Rafael Nadal      Ad-in    1  0-0  \n",
       "5  Philipp Kohlschreiber      40-30    5  2-4  \n",
       "6     Thanasi Kokkinakis      30-40    3  0-1  \n",
       "7     Thanasi Kokkinakis      Deuce    3  0-1  \n",
       "8     Thanasi Kokkinakis      Ad-in    3  0-1  \n",
       "9        Nicolas Almagro      15-30    1  0-1  "
      ]
     },
     "execution_count": 91,
     "metadata": {},
     "output_type": "execute_result"
    }
   ],
   "source": [
    "serve = pd.read_csv(\"./data/data/tennis-time/serve_times.csv\")\n",
    "serve.head(n=10)"
   ]
  },
  {
   "cell_type": "markdown",
   "metadata": {},
   "source": [
    "## Some Game Moment Are Longer Than The Others?\n",
    "- expectinng deuce to be longer; but it's actually when it's `0-30`"
   ]
  },
  {
   "cell_type": "code",
   "execution_count": 93,
   "metadata": {
    "collapsed": false
   },
   "outputs": [
    {
     "data": {
      "text/plain": [
       "game_score\n",
       "0-15      13.666667\n",
       "0-30      29.333333\n",
       "0-40      14.000000\n",
       "15-0      17.250000\n",
       "15-15     15.500000\n",
       "15-30     23.600000\n",
       "15-40     25.428571\n",
       "30-0      19.800000\n",
       "30-15     14.500000\n",
       "30-30     21.333333\n",
       "30-40     22.777778\n",
       "40-0      19.714286\n",
       "40-15     16.500000\n",
       "40-30     22.545455\n",
       "Ad-in     18.111111\n",
       "Ad-out    23.857143\n",
       "Deuce     19.176471\n",
       "Name: seconds_before_next_point, dtype: float64"
      ]
     },
     "execution_count": 93,
     "metadata": {},
     "output_type": "execute_result"
    }
   ],
   "source": [
    "serve.pivot_table(index='game_score', values='seconds_before_next_point')"
   ]
  },
  {
   "cell_type": "markdown",
   "metadata": {},
   "source": [
    "### - No set 4; only the first winning 3; or first to 5"
   ]
  },
  {
   "cell_type": "code",
   "execution_count": 96,
   "metadata": {
    "collapsed": false
   },
   "outputs": [
    {
     "data": {
      "text/plain": [
       "set\n",
       "1    22.333333\n",
       "2    19.727273\n",
       "3    18.415385\n",
       "5    30.666667\n",
       "Name: seconds_before_next_point, dtype: float64"
      ]
     },
     "execution_count": 96,
     "metadata": {},
     "output_type": "execute_result"
    }
   ],
   "source": [
    "serve.pivot_table(index='set', values='seconds_before_next_point')"
   ]
  },
  {
   "cell_type": "code",
   "execution_count": 97,
   "metadata": {
    "collapsed": false
   },
   "outputs": [
    {
     "data": {
      "text/plain": [
       "game\n",
       "0-0    20.909091\n",
       "0-1    24.714286\n",
       "0-3    29.500000\n",
       "0-5    14.000000\n",
       "1-2    24.500000\n",
       "1-3    20.750000\n",
       "1-4    32.000000\n",
       "2-1    18.833333\n",
       "2-2    19.166667\n",
       "2-4    24.333333\n",
       "3-1    15.400000\n",
       "3-3    13.428571\n",
       "3-5    17.625000\n",
       "4-2    19.500000\n",
       "4-3    27.000000\n",
       "4-4    30.200000\n",
       "5-1    27.000000\n",
       "5-2    16.375000\n",
       "5-4    26.000000\n",
       "Name: seconds_before_next_point, dtype: float64"
      ]
     },
     "execution_count": 97,
     "metadata": {},
     "output_type": "execute_result"
    }
   ],
   "source": [
    "serve.pivot_table(index='game', values='seconds_before_next_point')"
   ]
  },
  {
   "cell_type": "code",
   "execution_count": 82,
   "metadata": {
    "collapsed": false
   },
   "outputs": [
    {
     "data": {
      "text/html": [
       "<div>\n",
       "<table border=\"1\" class=\"dataframe\">\n",
       "  <thead>\n",
       "    <tr style=\"text-align: right;\">\n",
       "      <th></th>\n",
       "      <th>tournament</th>\n",
       "      <th>surface</th>\n",
       "      <th>seconds_added_per_point</th>\n",
       "      <th>years</th>\n",
       "    </tr>\n",
       "  </thead>\n",
       "  <tbody>\n",
       "    <tr>\n",
       "      <th>0</th>\n",
       "      <td>Wimbledon</td>\n",
       "      <td>Grass</td>\n",
       "      <td>-2.98</td>\n",
       "      <td>1991-2014</td>\n",
       "    </tr>\n",
       "    <tr>\n",
       "      <th>1</th>\n",
       "      <td>London Olympics</td>\n",
       "      <td>Grass</td>\n",
       "      <td>-2.62</td>\n",
       "      <td>2012</td>\n",
       "    </tr>\n",
       "    <tr>\n",
       "      <th>2</th>\n",
       "      <td>Manchester</td>\n",
       "      <td>Grass</td>\n",
       "      <td>-2.33</td>\n",
       "      <td>1991-1994</td>\n",
       "    </tr>\n",
       "    <tr>\n",
       "      <th>3</th>\n",
       "      <td>Eastbourne</td>\n",
       "      <td>Grass</td>\n",
       "      <td>-1.78</td>\n",
       "      <td>2009-2014</td>\n",
       "    </tr>\n",
       "    <tr>\n",
       "      <th>4</th>\n",
       "      <td>Birmingham</td>\n",
       "      <td>Carpet</td>\n",
       "      <td>-1.63</td>\n",
       "      <td>1991</td>\n",
       "    </tr>\n",
       "  </tbody>\n",
       "</table>\n",
       "</div>"
      ],
      "text/plain": [
       "        tournament surface  seconds_added_per_point      years\n",
       "0        Wimbledon   Grass                    -2.98  1991-2014\n",
       "1  London Olympics   Grass                    -2.62       2012\n",
       "2       Manchester   Grass                    -2.33  1991-1994\n",
       "3       Eastbourne   Grass                    -1.78  2009-2014\n",
       "4       Birmingham  Carpet                    -1.63       1991"
      ]
     },
     "execution_count": 82,
     "metadata": {},
     "output_type": "execute_result"
    }
   ],
   "source": [
    "events = pd.read_csv(\"./data/data/tennis-time/events_time.csv\")\n",
    "events.head()\n"
   ]
  },
  {
   "cell_type": "code",
   "execution_count": 83,
   "metadata": {
    "collapsed": false
   },
   "outputs": [
    {
     "data": {
      "text/html": [
       "<div>\n",
       "<table border=\"1\" class=\"dataframe\">\n",
       "  <thead>\n",
       "    <tr style=\"text-align: right;\">\n",
       "      <th></th>\n",
       "      <th>seconds_added_per_point</th>\n",
       "    </tr>\n",
       "    <tr>\n",
       "      <th>surface</th>\n",
       "      <th></th>\n",
       "    </tr>\n",
       "  </thead>\n",
       "  <tbody>\n",
       "    <tr>\n",
       "      <th>Carpet</th>\n",
       "      <td>0.772895</td>\n",
       "    </tr>\n",
       "    <tr>\n",
       "      <th>Clay</th>\n",
       "      <td>3.135211</td>\n",
       "    </tr>\n",
       "    <tr>\n",
       "      <th>Grass</th>\n",
       "      <td>-1.333000</td>\n",
       "    </tr>\n",
       "    <tr>\n",
       "      <th>Hard</th>\n",
       "      <td>1.424767</td>\n",
       "    </tr>\n",
       "  </tbody>\n",
       "</table>\n",
       "</div>"
      ],
      "text/plain": [
       "         seconds_added_per_point\n",
       "surface                         \n",
       "Carpet                  0.772895\n",
       "Clay                    3.135211\n",
       "Grass                  -1.333000\n",
       "Hard                    1.424767"
      ]
     },
     "execution_count": 83,
     "metadata": {},
     "output_type": "execute_result"
    }
   ],
   "source": [
    "events.pivot_table(index='surface')"
   ]
  }
 ],
 "metadata": {
  "anaconda-cloud": {},
  "kernelspec": {
   "display_name": "Python 3",
   "language": "python",
   "name": "python3"
  },
  "language_info": {
   "codemirror_mode": {
    "name": "ipython",
    "version": 3
   },
   "file_extension": ".py",
   "mimetype": "text/x-python",
   "name": "python",
   "nbconvert_exporter": "python",
   "pygments_lexer": "ipython3",
   "version": "3.5.2"
  }
 },
 "nbformat": 4,
 "nbformat_minor": 1
}
